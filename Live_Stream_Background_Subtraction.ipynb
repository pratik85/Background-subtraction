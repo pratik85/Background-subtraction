{
 "cells": [
  {
   "cell_type": "code",
   "execution_count": 5,
   "metadata": {},
   "outputs": [],
   "source": [
    "import numpy as np \n",
    "import cv2 \n",
    "  \n",
    "# creating object \n",
    "# opencv-contrib module should be downloaded for running the three models\n",
    "\n",
    "fgbg1 = cv2.bgsegm.createBackgroundSubtractorMOG();    \n",
    "fgbg2 = cv2.createBackgroundSubtractorMOG2(); \n",
    "fgbg3 = cv2.bgsegm.createBackgroundSubtractorGMG(); \n",
    "\n",
    "# capture frames from a camera  \n",
    "cap = cv2.VideoCapture(0); \n",
    "while(1): \n",
    "    # read frames \n",
    "    ret, img = cap.read(); \n",
    "      \n",
    "    # apply mask for background subtraction \n",
    "    fgmask1 = fgbg1.apply(img); \n",
    "    fgmask2 = fgbg2.apply(img); \n",
    "    fgmask3 = fgbg3.apply(img); \n",
    "      \n",
    "    cv2.imshow('Original', img); \n",
    "    cv2.imshow('MOG', fgmask1); \n",
    "    cv2.imshow('MOG2', fgmask2); \n",
    "    cv2.imshow('GMG', fgmask3); \n",
    "    \n",
    "    key = cv2.waitKey(1)\n",
    "    if  key == ord('q'):\n",
    "        break\n",
    "cap.release(); \n",
    "cv2.destroyAllWindows();"
   ]
  },
  {
   "cell_type": "code",
   "execution_count": 6,
   "metadata": {},
   "outputs": [],
   "source": [
    "kernel = cv2.getStructuringElement(cv2.MORPH_ELLIPSE, (3, 3)); \n",
    "  \n",
    "# creating object \n",
    "fgbg = cv2.bgsegm.createBackgroundSubtractorGMG(); \n",
    "  \n",
    "# capture frames from a camera  \n",
    "cap = cv2.VideoCapture(0); \n",
    "while(1): \n",
    "    # read frames \n",
    "    ret, img = cap.read(); \n",
    "      \n",
    "    # apply mask for background subtraction \n",
    "    fgmask = fgbg.apply(img); \n",
    "      \n",
    "    # with noise frame \n",
    "    cv2.imshow('GMG noise', fgmask); \n",
    "      \n",
    "    # apply transformation to remove noise \n",
    "    fgmask = cv2.morphologyEx(fgmask, cv2.MORPH_OPEN, kernel); \n",
    "      \n",
    "    # after removing noise \n",
    "    cv2.imshow('GMG', fgmask); \n",
    "      \n",
    "    key = cv2.waitKey(1)\n",
    "    if  key == ord('q'):\n",
    "        break\n",
    "        \n",
    "cap.release(); \n",
    "cv2.destroyAllWindows();"
   ]
  },
  {
   "cell_type": "code",
   "execution_count": null,
   "metadata": {},
   "outputs": [],
   "source": []
  }
 ],
 "metadata": {
  "kernelspec": {
   "display_name": "Python 3",
   "language": "python",
   "name": "python3"
  },
  "language_info": {
   "codemirror_mode": {
    "name": "ipython",
    "version": 3
   },
   "file_extension": ".py",
   "mimetype": "text/x-python",
   "name": "python",
   "nbconvert_exporter": "python",
   "pygments_lexer": "ipython3",
   "version": "3.7.6"
  }
 },
 "nbformat": 4,
 "nbformat_minor": 2
}
